{
  "nbformat": 4,
  "nbformat_minor": 0,
  "metadata": {
    "colab": {
      "provenance": [],
      "authorship_tag": "ABX9TyN2nzcDE0V8Kvn32wlwEXiQ",
      "include_colab_link": true
    },
    "kernelspec": {
      "name": "python3",
      "display_name": "Python 3"
    },
    "language_info": {
      "name": "python"
    }
  },
  "cells": [
    {
      "cell_type": "markdown",
      "metadata": {
        "id": "view-in-github",
        "colab_type": "text"
      },
      "source": [
        "<a href=\"https://colab.research.google.com/github/timetoshine17/Beginner-for-Python/blob/main/Untitled4.ipynb\" target=\"_parent\"><img src=\"https://colab.research.google.com/assets/colab-badge.svg\" alt=\"Open In Colab\"/></a>"
      ]
    },
    {
      "cell_type": "code",
      "execution_count": null,
      "metadata": {
        "id": "31eKeduRzkCU"
      },
      "outputs": [],
      "source": [
        "정수형(int)\n",
        "실수형(float) - 소수점이 있음\n"
      ]
    },
    {
      "cell_type": "markdown",
      "source": [
        "사칙연산자\n",
        "+, -, *, /\n",
        "정수 나누기(정수부분만 남김) - //\n",
        "나머지 연산자 - %\n",
        "제곱 연산자 - **\n"
      ],
      "metadata": {
        "id": "TkAagggizwIT"
      }
    }
  ]
}