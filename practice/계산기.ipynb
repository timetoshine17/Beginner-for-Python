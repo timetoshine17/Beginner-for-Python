{
  "nbformat": 4,
  "nbformat_minor": 0,
  "metadata": {
    "colab": {
      "provenance": [],
      "mount_file_id": "1eYc92_tgNlIImTL_QbY46d-myA8mtk6C",
      "authorship_tag": "ABX9TyNvaszfgHI08fmJpniw+sfp",
      "include_colab_link": true
    },
    "kernelspec": {
      "name": "python3",
      "display_name": "Python 3"
    },
    "language_info": {
      "name": "python"
    }
  },
  "cells": [
    {
      "cell_type": "markdown",
      "metadata": {
        "id": "view-in-github",
        "colab_type": "text"
      },
      "source": [
        "<a href=\"https://colab.research.google.com/github/timetoshine17/Beginner-for-Python/blob/main/%EA%B3%84%EC%82%B0%EA%B8%B0.ipynb\" target=\"_parent\"><img src=\"https://colab.research.google.com/assets/colab-badge.svg\" alt=\"Open In Colab\"/></a>"
      ]
    },
    {
      "cell_type": "code",
      "execution_count": 3,
      "metadata": {
        "colab": {
          "base_uri": "https://localhost:8080/"
        },
        "id": "7uYNZCIgwXGy",
        "outputId": "257d6169-0ebf-43ef-e0ea-0a6862ee2451"
      },
      "outputs": [
        {
          "output_type": "stream",
          "name": "stdout",
          "text": [
            "Directory 'calculator' created!\n"
          ]
        }
      ],
      "source": [
        "import os\n",
        "\n",
        "os.makedirs('calculator', exist_ok=True)\n",
        "print(\"Directory 'calculator' created!\")\n"
      ]
    },
    {
      "cell_type": "code",
      "source": [
        "import shutil\n",
        "\n",
        "# 각각의 파일을 calculator 디렉터리로 이동\n",
        "shutil.move('basic_operations.py', 'calculator/basic_operations.py')\n",
        "shutil.move('advanced_operations.py', 'calculator/advanced_operations.py')\n",
        "shutil.move('__init__.py', 'calculator/__init__.py')\n",
        "\n",
        "print(\"Files moved to 'calculator' directory!\")\n"
      ],
      "metadata": {
        "colab": {
          "base_uri": "https://localhost:8080/"
        },
        "id": "2L_2aV9vwxP4",
        "outputId": "87e3d3fa-f4ca-4edf-d452-4981af42755c"
      },
      "execution_count": 4,
      "outputs": [
        {
          "output_type": "stream",
          "name": "stdout",
          "text": [
            "Files moved to 'calculator' directory!\n"
          ]
        }
      ]
    },
    {
      "cell_type": "code",
      "source": [
        "import calculator\n",
        "print(calculator.add(3,5))\n",
        "calculator.power(3,2)\n",
        "calculator.factorial(5)"
      ],
      "metadata": {
        "colab": {
          "base_uri": "https://localhost:8080/"
        },
        "id": "Q5MNb6bZwxkj",
        "outputId": "d28aec60-9f51-4be1-fe5e-3247e432fd64"
      },
      "execution_count": 9,
      "outputs": [
        {
          "output_type": "stream",
          "name": "stdout",
          "text": [
            "8\n"
          ]
        },
        {
          "output_type": "execute_result",
          "data": {
            "text/plain": [
              "120"
            ]
          },
          "metadata": {},
          "execution_count": 9
        }
      ]
    },
    {
      "cell_type": "code",
      "source": [],
      "metadata": {
        "id": "KDhn4D_9xGdn"
      },
      "execution_count": null,
      "outputs": []
    }
  ]
}
