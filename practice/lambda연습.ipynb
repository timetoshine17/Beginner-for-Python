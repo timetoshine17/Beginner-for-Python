{
  "nbformat": 4,
  "nbformat_minor": 0,
  "metadata": {
    "colab": {
      "provenance": [],
      "authorship_tag": "ABX9TyMH1weU3zslYyDHpK1rYtG8",
      "include_colab_link": true
    },
    "kernelspec": {
      "name": "python3",
      "display_name": "Python 3"
    },
    "language_info": {
      "name": "python"
    }
  },
  "cells": [
    {
      "cell_type": "markdown",
      "metadata": {
        "id": "view-in-github",
        "colab_type": "text"
      },
      "source": [
        "<a href=\"https://colab.research.google.com/github/timetoshine17/Beginner-for-Python/blob/main/lambda%EC%97%B0%EC%8A%B5.ipynb\" target=\"_parent\"><img src=\"https://colab.research.google.com/assets/colab-badge.svg\" alt=\"Open In Colab\"/></a>"
      ]
    },
    {
      "cell_type": "code",
      "execution_count": 18,
      "metadata": {
        "colab": {
          "base_uri": "https://localhost:8080/"
        },
        "id": "Ua2UOczLCAN9",
        "outputId": "82a8e17e-a00b-4371-9aaa-eca06535251f"
      },
      "outputs": [
        {
          "output_type": "stream",
          "name": "stdout",
          "text": [
            "100명이 테이블에 앉을 수 있는 경우의 수는 10입니다.\n"
          ]
        }
      ],
      "source": [
        "# 한 개의 테이블에 앉을 수 있는 최대 인원은 10명, 테이블에 100명이 모두 앉을 수 있는 모든 경우의 수\n",
        "#오류코드 << 테이블마다 같은 인원이 앉을 경우만 생각함\n",
        "people = 100\n",
        "number = 0\n",
        "table_people = range(1,11)\n",
        "\n",
        "\n",
        "\n",
        "for t in table_people:\n",
        "  i = (people // t)\n",
        "  j = people % t\n",
        "  if j>0:\n",
        "    i +=1\n",
        "    number +=1\n",
        "  else:\n",
        "    number +=1\n",
        "print(f\"{people}명이 테이블에 앉을 수 있는 경우의 수는 {number}입니다.\")\n",
        "\n",
        "#정답 코드\n",
        "def count_table_arrangements(people, max_table_people, tables=[]):\n",
        "    if people == 0:  # 모든 사람이 배치된 경우\n",
        "        return 1\n",
        "    if people < 0:  # 불가능한 조합\n",
        "        return 0\n",
        "\n",
        "    arrangements = 0\n",
        "    # 테이블에 앉을 사람 수를 1명부터 최대 10명까지 시도\n",
        "    for num in range(1, max_table_people + 1):\n",
        "        arrangements += count_table_arrangements(people - num, max_table_people, tables + [num])\n",
        "    return arrangements\n",
        "\n",
        "\n",
        "people = 100\n",
        "max_table_people = 10\n",
        "result = count_table_arrangements(people, max_table_people)\n",
        "\n",
        "print(f\"{people}명이 테이블에 앉을 수 있는 모든 경우의 수는 {result}가지입니다.\")\n"
      ]
    },
    {
      "cell_type": "code",
      "source": [
        "#기\n",
        "square = lambda x: x**2\n",
        "print(square(4))  # 출력: 16\n",
        "\n",
        "#map리스트의 각 요소에 함수를 적용:\n",
        "numbers = [1, 2, 3, 4, 5]\n",
        "squared = map(lambda x: x**2, numbers)\n",
        "print(list(squared))  # 출력: [1, 4, 9, 16, 25]\n",
        "\n",
        "#filter리스트의 요소 중 조건에 맞는 값만 필터링:\n",
        "numbers = [1, 2, 3, 4, 5]\n",
        "even_numbers = filter(lambda x: x % 2 == 0, numbers)\n",
        "print(list(even_numbers))  # 출력: [2, 4]\n"
      ],
      "metadata": {
        "id": "XvhxJctZL4Us"
      },
      "execution_count": null,
      "outputs": []
    },
    {
      "cell_type": "code",
      "source": [
        "#lambda 예시\n",
        "#리스트의 요소들의 문자열길이를 오름차순으로 정리하기\n",
        "words = [\"apple\", \"banana\", \"kiwi\", \"grape\", \"watermelon\"]\n",
        "length = sorted(words,key = lambda x: len(x))\n",
        "for word in length:\n",
        "  print(f\"{word}({len(word)})\")\n",
        "\n"
      ],
      "metadata": {
        "colab": {
          "base_uri": "https://localhost:8080/"
        },
        "id": "I8sQrv0vaeeJ",
        "outputId": "a2ed4188-5af3-4d60-8ee5-3d7f15ca630d"
      },
      "execution_count": 24,
      "outputs": [
        {
          "output_type": "stream",
          "name": "stdout",
          "text": [
            "kiwi(4)\n",
            "apple(5)\n",
            "grape(5)\n",
            "banana(6)\n",
            "watermelon(10)\n"
          ]
        }
      ]
    },
    {
      "cell_type": "code",
      "source": [],
      "metadata": {
        "id": "7tJ6KCApbBZU"
      },
      "execution_count": null,
      "outputs": []
    }
  ]
}
