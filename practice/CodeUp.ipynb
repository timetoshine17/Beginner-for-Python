{
  "nbformat": 4,
  "nbformat_minor": 0,
  "metadata": {
    "colab": {
      "provenance": [],
      "authorship_tag": "ABX9TyOgvYodecWngs0TyYQiinK6",
      "include_colab_link": true
    },
    "kernelspec": {
      "name": "python3",
      "display_name": "Python 3"
    },
    "language_info": {
      "name": "python"
    }
  },
  "cells": [
    {
      "cell_type": "markdown",
      "metadata": {
        "id": "view-in-github",
        "colab_type": "text"
      },
      "source": [
        "<a href=\"https://colab.research.google.com/github/timetoshine17/Beginner-for-Python/blob/main/practice/CodeUp.ipynb\" target=\"_parent\"><img src=\"https://colab.research.google.com/assets/colab-badge.svg\" alt=\"Open In Colab\"/></a>"
      ]
    },
    {
      "cell_type": "markdown",
      "source": [
        "https://codeup.kr/problem.php?id=6065\n",
        "\n",
        "6065 : [기초-조건/선택실행구조] 정수 3개 입력받아 짝수만 출력하기(설명)(py)"
      ],
      "metadata": {
        "id": "Lf7LC-fZrb5U"
      }
    },
    {
      "cell_type": "markdown",
      "source": [
        "본 문제는 python 의 빠른 기초 학습을 위해 설계된 문제로서 python 코드 제출을 기준으로 설명되어 있습니다.\n",
        "------\n",
        "\n",
        "3개의 정수(a, b, c)가 입력되었을 때, 짝수만 출력해보자.\n",
        "\n",
        "예시\n",
        "a, b, c = input().split()\n",
        "\n",
        "a = int(a)\n",
        "b = int(b)\n",
        "c = int(c)\n",
        "\n",
        "if a%2==0 :  #논리적으로 한 단위로 처리해야하는 경우 콜론(:)을 찍고, 들여쓰기로 작성 한다.\n",
        "  print(a)\n",
        "\n",
        "if b%2==0 :\n",
        "  print(b)\n",
        "\n",
        "if c%2==0 :\n",
        "  print(c)\n",
        "\n",
        "참고\n",
        "if 조건식 :\n",
        "  실행1  #조건식의 평가값이 True 인 경우 실행시킬 명령을 들여쓰기를 이용해 순서대로 작성한다.\n",
        "  실행2\n",
        "실행3  #들여쓰기를 하지 않은 부분은 조건식에 상관이 없음\n",
        "\n",
        "python 에서는 논리적 실행단위인 코드블록(code block)을 표현하기 위해 들여쓰기를 사용한다.\n",
        "들여쓰기 방법은 탭(tab), 공백(space) 4개 등 여러 가지 방법을 사용할 수 있지만\n",
        "한 소스코드 내에서 들여쓰기 길이와 방법은 똑같아야 한다.\n",
        "\n",
        "a%2==0 은 (a%2)가 먼저 계산된 후 그 결과를 정수 0과 비교한 결과값이다.\n",
        "a를 2로 나눈 나머지가 0, 즉 짝수이면 True 가 되고, 아니면 False 로 계산된다.\n",
        "따라서,\n",
        "if a%2==0 : #a가 짝수라면 ...\n",
        "와 같은 의미가 된다. 짝수가 아니라면 들여쓰기로 작성된 부분들은 실행되지 않는다."
      ],
      "metadata": {
        "id": "CDTSmcXvrrWS"
      }
    },
    {
      "cell_type": "code",
      "source": [
        "a, b, c = input().split()\n",
        "a = int(a)\n",
        "b = int(b)\n",
        "c = int(c)\n",
        "0<=a<=2147483647\n",
        "0<=b<=2147483647\n",
        "0<=c<=2147483647\n",
        "\n",
        "n = [a, b, c]\n",
        "n = [i for i in n if i%2 == 0]\n",
        "t = \" \".join(map(str,n)) #map 변환 함수, join 문자열 리스트를 하나의 문자열로 합침\n",
        "print(t)"
      ],
      "metadata": {
        "colab": {
          "base_uri": "https://localhost:8080/"
        },
        "id": "AtypUCXXrii6",
        "outputId": "34427521-2f85-4f31-d332-9920ed283458"
      },
      "execution_count": 11,
      "outputs": [
        {
          "output_type": "stream",
          "name": "stdout",
          "text": [
            "1 2 4\n",
            "2 4\n"
          ]
        }
      ]
    },
    {
      "cell_type": "markdown",
      "source": [
        "6066 : [기초-조건/선택실행구조] 정수 3개 입력받아 짝/홀 출력하기(설명)(py)"
      ],
      "metadata": {
        "id": "fCD-pwTMC5_A"
      }
    },
    {
      "cell_type": "markdown",
      "source": [
        "3개의 정수(a, b, c)가 입력되었을 때, 짝(even)/홀(odd)을 출력해보자.\n",
        "\n",
        "예시\n",
        "...\n",
        "if a%2==0 :\n",
        "  print(\"even\")\n",
        "else :\n",
        "  print(\"odd\")\n",
        "...\n",
        "\n",
        "참고\n",
        "if 조건식 :  #조건식을 평가해서...\n",
        "  실행1      #True 인 경우 실행시킬 명령들...\n",
        "  실행2\n",
        "else :        \n",
        "  실행3      #False 인 경우 실행시킬 명령들...\n",
        "  실행4\n",
        "실행5       #조건식과 상관없는 다음 명령\n",
        "...\n",
        "\n",
        "else 는 if 없이 혼자 사용되지 않는다.\n",
        "또한, else 다음에는 조건식이 없는 이유는? True(참)가 아니면 False(거짓)이기 때문에...\n",
        "조건식의 평가 결과는 True 아니면 False 로 계산되기 때문이다.\n",
        "\n",
        "python 에서는 들여쓰기를 기준으로 코드블록을 구분하므로, 들여쓰기를 정확하게 해주어야 한다."
      ],
      "metadata": {
        "id": "MQVyJetYC9Dg"
      }
    },
    {
      "cell_type": "code",
      "execution_count": 12,
      "metadata": {
        "colab": {
          "base_uri": "https://localhost:8080/"
        },
        "id": "EhWEY6rBrbeG",
        "outputId": "5f7614c7-fa60-4148-bdaa-56b05d31fb7c"
      },
      "outputs": [
        {
          "output_type": "stream",
          "name": "stdout",
          "text": [
            "1 2 8\n",
            "odd\n",
            "even\n",
            "even\n"
          ]
        }
      ],
      "source": [
        "a, b, c = input().split()\n",
        "a = int(a)\n",
        "b = int(b)\n",
        "c = int(c)\n",
        "0<=a<=2147483647\n",
        "0<=b<=2147483647\n",
        "0<=c<=2147483647\n",
        "\n",
        "n = [a, b, c]\n",
        "for i in n:\n",
        "  if i%2 ==0:\n",
        "    print(\"even\")\n",
        "  else:\n",
        "    print(\"odd\")\n",
        ""
      ]
    },
    {
      "cell_type": "markdown",
      "source": [
        "정수 1개가 입력된다.\n",
        "-2147483648 ~ +2147483647, 단 0은 입력되지 않는다.\n",
        "\n",
        "음수이면서 짝수이면, A\n",
        "\n",
        "음수이면서 홀수이면, B\n",
        "\n",
        "양수이면서 짝수이면, C\n",
        "\n",
        "양수이면서 홀수이면, D"
      ],
      "metadata": {
        "id": "7qh8cJraD53d"
      }
    },
    {
      "cell_type": "code",
      "source": [
        "i = int(input())\n",
        "if i == 0:\n",
        "  print('error')\n",
        "elif i<0 and i %2 ==0:\n",
        "  print('A')\n",
        "elif i>0 and i %2 ==0:\n",
        "  print('C')\n",
        "elif i<0 and i %2 !=0:\n",
        "  print('B')\n",
        "elif i>0 and i %2 !=0:\n",
        "  print('D')"
      ],
      "metadata": {
        "colab": {
          "base_uri": "https://localhost:8080/"
        },
        "id": "6S-9QtmKC-Yo",
        "outputId": "c230a496-dc2f-4852-9454-1fc0f327c00a"
      },
      "execution_count": 14,
      "outputs": [
        {
          "output_type": "stream",
          "name": "stdout",
          "text": [
            "0\n",
            "error\n"
          ]
        }
      ]
    },
    {
      "cell_type": "markdown",
      "source": [
        "친구들과 함께 3 6 9 게임을 하던 영일이는 잦은 실수 때문에 계속해서 벌칙을 받게 되었다.\n",
        "3 6 9 게임의 왕이 되기 위한 369 마스터 프로그램을 작성해 보자.\n",
        "\n",
        "** 3 6 9 게임은?\n",
        "여러 사람이 순서를 정한 후, 순서대로 수를 부르는 게임이다.\n",
        "만약 3, 6, 9 가 들어간 수를 자신이 불러야 하는 상황이라면, 수를 부르는 대신 \"박수(X)\" 를 쳐야 한다.\n",
        "33과 같이 3,6,9가 두 번 들어간 수 일때, \"짝짝\"과 같이 박수를 두 번 치는 형태도 있다.\n",
        "\n",
        "참고\n",
        "...\n",
        "for i in range(1, n+1) :\n",
        "  if i%10==3 :\n",
        "    print(\"X\", end=' ')    #출력 후 공백문자(빈칸, ' ')로 끝냄\n",
        "...\n",
        "\n",
        "입력\n",
        "30 보다 작은 정수 1개가 입력된다.\n",
        "(1 ~ 29)\n",
        "\n",
        "출력\n",
        "1 부터 그 수까지 순서대로 공백을 두고 수를 출력하는데,\n",
        "3 또는 6 또는 9가 포함 되어있는 수인 경우, 그 수 대신 영문 대문자 X 를 출력한다.\n"
      ],
      "metadata": {
        "id": "TSIAMjgZGN2b"
      }
    },
    {
      "cell_type": "code",
      "source": [
        "a= int(input())\n",
        "\n",
        "0<a<30\n",
        "\n",
        "for i in range(1, a+1):\n",
        "  if '3' in str(i) or '6' in str(i) or '9' in str(i):\n",
        "            print('X', end=' ')\n",
        "  else:\n",
        "    print(i, end=' ')\n",
        "\n",
        "#print는 기본적으로 산출 후 엔터를 삽입한다. end=' '를 쓰면 공백을 추가하고 산출값을 이어갈 수 있다."
      ],
      "metadata": {
        "colab": {
          "base_uri": "https://localhost:8080/"
        },
        "id": "KYmGCO3RF4Hb",
        "outputId": "92fdf3ba-8e05-4e63-857d-d480fd60ddbe"
      },
      "execution_count": 22,
      "outputs": [
        {
          "output_type": "stream",
          "name": "stdout",
          "text": [
            "29\n",
            "1 2 X 4 5 X 7 8 X 10 11 12 X 14 15 X 17 18 X 20 21 22 X 24 25 X 27 28 X "
          ]
        }
      ]
    },
    {
      "cell_type": "code",
      "source": [],
      "metadata": {
        "id": "MuQCqM2lIUmJ"
      },
      "execution_count": null,
      "outputs": []
    }
  ]
}