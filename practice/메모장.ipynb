{
  "nbformat": 4,
  "nbformat_minor": 0,
  "metadata": {
    "colab": {
      "provenance": [],
      "authorship_tag": "ABX9TyPkYGGkJ8SRmJ/0WIR+ZugY",
      "include_colab_link": true
    },
    "kernelspec": {
      "name": "python3",
      "display_name": "Python 3"
    },
    "language_info": {
      "name": "python"
    }
  },
  "cells": [
    {
      "cell_type": "markdown",
      "metadata": {
        "id": "view-in-github",
        "colab_type": "text"
      },
      "source": [
        "<a href=\"https://colab.research.google.com/github/timetoshine17/Beginner-for-Python/blob/main/%EB%A9%94%EB%AA%A8%EC%9E%A5.ipynb\" target=\"_parent\"><img src=\"https://colab.research.google.com/assets/colab-badge.svg\" alt=\"Open In Colab\"/></a>"
      ]
    },
    {
      "cell_type": "code",
      "execution_count": null,
      "metadata": {
        "colab": {
          "base_uri": "https://localhost:8080/"
        },
        "id": "l7LO_gfZy97o",
        "outputId": "97e0f997-5558-4f53-a777-59fbbab97680"
      },
      "outputs": [
        {
          "output_type": "stream",
          "name": "stdout",
          "text": [
            "\n",
            "--- 메모장 ---\n",
            "1. 메모 작성\n",
            "2. 메모 보기\n",
            "3. 종료\n",
            "원하는 작업을 선택하세요: 1\n",
            "메모를 작성하세요: 안녕\n",
            "메모가 저장되었습니다.\n",
            "\n",
            "--- 메모장 ---\n",
            "1. 메모 작성\n",
            "2. 메모 보기\n",
            "3. 종료\n",
            "원하는 작업을 선택하세요: 2\n",
            "\n",
            "저장된 메모 내용:\n",
            "안녕\n",
            "\n",
            "--- 메모장 ---\n",
            "1. 메모 작성\n",
            "2. 메모 보기\n",
            "3. 종료\n",
            "원하는 작업을 선택하세요: 힘들다 피곤해\n",
            "잘못된 입력입니다. 다시 시도해주세요.\n",
            "\n",
            "--- 메모장 ---\n",
            "1. 메모 작성\n",
            "2. 메모 보기\n",
            "3. 종료\n",
            "원하는 작업을 선택하세요: 1\n",
            "메모를 작성하세요: 피곤해\n",
            "메모가 저장되었습니다.\n",
            "\n",
            "--- 메모장 ---\n",
            "1. 메모 작성\n",
            "2. 메모 보기\n",
            "3. 종료\n",
            "원하는 작업을 선택하세요: 2\n",
            "\n",
            "저장된 메모 내용:\n",
            "피곤해\n",
            "\n",
            "--- 메모장 ---\n",
            "1. 메모 작성\n",
            "2. 메모 보기\n",
            "3. 종료\n"
          ]
        }
      ],
      "source": [
        "\n",
        "def write_note():\n",
        "    note = input(\"메모를 작성하세요: \")\n",
        "    with open('note.txt', 'w') as f:\n",
        "        f.write(note)\n",
        "    print(\"메모가 저장되었습니다.\")\n",
        "\n",
        "def read_note():\n",
        "    try:\n",
        "        with open('note.txt', 'r') as f:\n",
        "            note = f.read()\n",
        "        print(\"\\n저장된 메모 내용:\")\n",
        "        print(note)\n",
        "    except FileNotFoundError:\n",
        "        print(\"저장된 메모가 없습니다.\")\n",
        "\n",
        "\n",
        "def menu():\n",
        "    while True:\n",
        "        print(\"\\n--- 메모장 ---\")\n",
        "        print(\"1. 메모 작성\")\n",
        "        print(\"2. 메모 보기\")\n",
        "        print(\"3. 종료\")\n",
        "        choice = input(\"원하는 작업을 선택하세요: \")\n",
        "\n",
        "        if choice == '1':\n",
        "            write_note()\n",
        "        elif choice == '2':\n",
        "            read_note()\n",
        "        elif choice == '3':\n",
        "            print(\"프로그램을 종료합니다.\")\n",
        "            break\n",
        "        else:\n",
        "            print(\"잘못된 입력입니다. 다시 시도해주세요.\")\n",
        "\n",
        "# 프로그램 실행\n",
        "menu()\n"
      ]
    },
    {
      "cell_type": "code",
      "source": [],
      "metadata": {
        "id": "GLmnTbQuzI3J"
      },
      "execution_count": null,
      "outputs": []
    }
  ]
}
