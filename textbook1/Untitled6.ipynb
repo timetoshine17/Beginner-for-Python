{
  "nbformat": 4,
  "nbformat_minor": 0,
  "metadata": {
    "colab": {
      "provenance": [],
      "authorship_tag": "ABX9TyNOZYjyexlpAcaOBcSFzSUE",
      "include_colab_link": true
    },
    "kernelspec": {
      "name": "python3",
      "display_name": "Python 3"
    },
    "language_info": {
      "name": "python"
    }
  },
  "cells": [
    {
      "cell_type": "markdown",
      "metadata": {
        "id": "view-in-github",
        "colab_type": "text"
      },
      "source": [
        "<a href=\"https://colab.research.google.com/github/timetoshine17/Beginner-for-Python/blob/main/Untitled6.ipynb\" target=\"_parent\"><img src=\"https://colab.research.google.com/assets/colab-badge.svg\" alt=\"Open In Colab\"/></a>"
      ]
    },
    {
      "cell_type": "code",
      "execution_count": null,
      "metadata": {
        "id": "mVrD8tnB2v80"
      },
      "outputs": [],
      "source": []
    },
    {
      "cell_type": "markdown",
      "source": [
        "문자열의 format()함수\n",
        "format()는 문자열이 가지고 있는 함수이다. {}를 포함한 문자열 뒤에 마침표를 찍고 format()을 사용한다.\n",
        "중괄호의 개수와 format함수 괄호 안 매개변수의 개수는 같아야 한다.\n"
      ],
      "metadata": {
        "id": "Pi1cBt_22xeV"
      }
    },
    {
      "cell_type": "code",
      "source": [
        "variable = \"{}야 안녕\".format(\"비버\")\n",
        "print(variable)"
      ],
      "metadata": {
        "colab": {
          "base_uri": "https://localhost:8080/"
        },
        "id": "oDP1P9xg2-tK",
        "outputId": "06ceea41-6db7-4400-ee8a-55cd69fb7644"
      },
      "execution_count": null,
      "outputs": [
        {
          "output_type": "stream",
          "name": "stdout",
          "text": [
            "비버아 안녕\n"
          ]
        }
      ]
    },
    {
      "cell_type": "code",
      "source": [
        "output_a = \"{:d}\".format(52) #{:d}사용하면 매개변수로 정수만 올 수 있음\n",
        "output_b = \"{:5d}\".format(52)\n",
        "output_c = \"{:10d}\".format(52) #10칸 후에 출력하기\n",
        "output_d = \"{:05d}\".format(52) #5칸을 잡고 뒤에서부터 52라는 숫자로 채우기\n",
        "print(output_c)"
      ],
      "metadata": {
        "colab": {
          "base_uri": "https://localhost:8080/"
        },
        "id": "ywijFFWd3ItP",
        "outputId": "7789a261-1f1b-4a35-c88f-ac602e79d7f6"
      },
      "execution_count": null,
      "outputs": [
        {
          "output_type": "stream",
          "name": "stdout",
          "text": [
            "        52\n"
          ]
        }
      ]
    },
    {
      "cell_type": "code",
      "source": [
        "#기호와 공백을 조합할 때는 =기호를 붙일 수 있다.\n",
        "output_a = \"{:+d}\".format(52)\n",
        "output_b = \"{:+d}\".format(-52)\n",
        "output_c = \"{:=+d}\".format(52)\n",
        "output_d = \"{:=+d}\".format(-52)\n",
        "print(output_d)"
      ],
      "metadata": {
        "colab": {
          "base_uri": "https://localhost:8080/"
        },
        "id": "Au47gGPo3i0A",
        "outputId": "a84836b1-6208-4f17-d503-d1b62113ba6f"
      },
      "execution_count": null,
      "outputs": [
        {
          "output_type": "stream",
          "name": "stdout",
          "text": [
            "-52\n"
          ]
        }
      ]
    },
    {
      "cell_type": "code",
      "source": [
        "#소수점 제거하기\n",
        "output_a = 52.0\n",
        "output_b = \"{:g}\".format(output_a)\n",
        "print(output_b)"
      ],
      "metadata": {
        "id": "XBXDiHiD4REB",
        "colab": {
          "base_uri": "https://localhost:8080/"
        },
        "outputId": "ed03f9e6-07ff-4359-c717-900ca953b02b"
      },
      "execution_count": 2,
      "outputs": [
        {
          "output_type": "stream",
          "name": "stdout",
          "text": [
            "52\n"
          ]
        }
      ]
    },
    {
      "cell_type": "code",
      "source": [
        "#대소문자 바꾸기 : upper()와 lower()\n",
        "a = \"Hello!\"\n",
        "a.upper()\n",
        "a.lower()"
      ],
      "metadata": {
        "colab": {
          "base_uri": "https://localhost:8080/",
          "height": 35
        },
        "id": "lAxJz0ySGpei",
        "outputId": "08a3f239-6863-4990-f174-c47d776459fa"
      },
      "execution_count": 5,
      "outputs": [
        {
          "output_type": "execute_result",
          "data": {
            "text/plain": [
              "'hello!'"
            ],
            "application/vnd.google.colaboratory.intrinsic+json": {
              "type": "string"
            }
          },
          "metadata": {},
          "execution_count": 5
        }
      ]
    },
    {
      "cell_type": "code",
      "source": [
        "#문자열 양옆의 공백 제거하기 : strip()\n",
        "#왼쪽의 공백 제거 : lstrip()\n",
        "#오른쪽의 공백 제거 : rstrip()"
      ],
      "metadata": {
        "id": "0F-3mfeUHS5E"
      },
      "execution_count": 6,
      "outputs": []
    },
    {
      "cell_type": "code",
      "source": [
        "#문자열구성 파악하기 : is000()\n",
        "a = \"Hello\"\n",
        "print(a.isalpha())"
      ],
      "metadata": {
        "colab": {
          "base_uri": "https://localhost:8080/"
        },
        "id": "ECYBS0cFH5Dm",
        "outputId": "62288574-378a-4557-a5ab-c5bf58085560"
      },
      "execution_count": 8,
      "outputs": [
        {
          "output_type": "stream",
          "name": "stdout",
          "text": [
            "True\n"
          ]
        }
      ]
    },
    {
      "cell_type": "code",
      "source": [
        "#문자열 찾기 : find(), rfind()\n",
        "#문자열과 in연산자\n",
        "print(\"안녕\"in\"안녕하시게\")"
      ],
      "metadata": {
        "colab": {
          "base_uri": "https://localhost:8080/"
        },
        "id": "2VpOUzliIA6s",
        "outputId": "88372998-f0fb-485d-abf0-8c6206e8eeca"
      },
      "execution_count": 9,
      "outputs": [
        {
          "output_type": "stream",
          "name": "stdout",
          "text": [
            "True\n"
          ]
        }
      ]
    },
    {
      "cell_type": "code",
      "source": [
        "#문자열 자르기 : split()\n",
        "a = \"10, 20, 30\".split(\",\")#쉼표를 기준으로 나눈다\n",
        "print(a)"
      ],
      "metadata": {
        "colab": {
          "base_uri": "https://localhost:8080/"
        },
        "id": "3joeygC_KL5b",
        "outputId": "90be0a6d-8d33-43a2-90eb-2390db615150"
      },
      "execution_count": 11,
      "outputs": [
        {
          "output_type": "stream",
          "name": "stdout",
          "text": [
            "['10', ' 20', ' 30']\n"
          ]
        }
      ]
    },
    {
      "cell_type": "code",
      "source": [
        "#f-문자열\n",
        "a= \"seryn\"\n",
        "b = 20\n",
        "f'{a}는 {b}이야'"
      ],
      "metadata": {
        "colab": {
          "base_uri": "https://localhost:8080/",
          "height": 35
        },
        "id": "2Nv-9vtxKPtz",
        "outputId": "d1d0adc7-aee6-49f4-d075-8f7aefce0aa7"
      },
      "execution_count": 13,
      "outputs": [
        {
          "output_type": "execute_result",
          "data": {
            "text/plain": [
              "'seryn는 20이야'"
            ],
            "application/vnd.google.colaboratory.intrinsic+json": {
              "type": "string"
            }
          },
          "metadata": {},
          "execution_count": 13
        }
      ]
    },
    {
      "cell_type": "code",
      "source": [
        "#피타고라스의 정리\n",
        "a = int(input(\"밑변의 길이를 입력해주세요: \"))\n",
        "b = int(input(\"높이의 길이를 입력해주세요: \"))\n",
        "c = (a**2 + b**2)**0.5\n",
        "print(f\"빗변의 길이는 {c}입니다.\")"
      ],
      "metadata": {
        "colab": {
          "base_uri": "https://localhost:8080/"
        },
        "id": "TY643XmIKuAK",
        "outputId": "de386ff9-db7a-4734-f5f1-8f376b6e27b9"
      },
      "execution_count": 19,
      "outputs": [
        {
          "output_type": "stream",
          "name": "stdout",
          "text": [
            "밑변의 길이를 입력해주세요: 3\n",
            "높이의 길이를 입력해주세요: 4\n",
            "빗변의 길이는 5.0입니다.\n"
          ]
        }
      ]
    },
    {
      "cell_type": "code",
      "source": [],
      "metadata": {
        "id": "E4qaeXYgL_GY"
      },
      "execution_count": null,
      "outputs": []
    }
  ]
}
