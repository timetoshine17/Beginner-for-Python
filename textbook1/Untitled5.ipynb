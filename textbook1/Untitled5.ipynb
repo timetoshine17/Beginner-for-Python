{
  "nbformat": 4,
  "nbformat_minor": 0,
  "metadata": {
    "colab": {
      "provenance": [],
      "authorship_tag": "ABX9TyMQdVM6LXaDBYJgVf593EnQ",
      "include_colab_link": true
    },
    "kernelspec": {
      "name": "python3",
      "display_name": "Python 3"
    },
    "language_info": {
      "name": "python"
    }
  },
  "cells": [
    {
      "cell_type": "markdown",
      "metadata": {
        "id": "view-in-github",
        "colab_type": "text"
      },
      "source": [
        "<a href=\"https://colab.research.google.com/github/timetoshine17/Beginner-for-Python/blob/main/Untitled5.ipynb\" target=\"_parent\"><img src=\"https://colab.research.google.com/assets/colab-badge.svg\" alt=\"Open In Colab\"/></a>"
      ]
    },
    {
      "cell_type": "code",
      "execution_count": 1,
      "metadata": {
        "colab": {
          "base_uri": "https://localhost:8080/",
          "height": 110
        },
        "id": "f-wkx-qG0JxO",
        "outputId": "dc664483-2fa1-434c-9543-5f314a5040e5"
      },
      "outputs": [
        {
          "output_type": "error",
          "ename": "SyntaxError",
          "evalue": "unmatched ')' (<ipython-input-1-2f5c70bf405b>, line 9)",
          "traceback": [
            "\u001b[0;36m  File \u001b[0;32m\"<ipython-input-1-2f5c70bf405b>\"\u001b[0;36m, line \u001b[0;32m9\u001b[0m\n\u001b[0;31m    ex)\u001b[0m\n\u001b[0m      ^\u001b[0m\n\u001b[0;31mSyntaxError\u001b[0m\u001b[0;31m:\u001b[0m unmatched ')'\n"
          ]
        }
      ],
      "source": [
        "복합 대입 연산자\n",
        "+= : 숫자 덧셈 후 대입\n",
        "-= : 숫자 뺄셈 후 대입\n",
        "*= : 숫자 곱셈 후 대입\n",
        "/= : 숫자 나눗셈 후 대입\n",
        "%= : 숫자의 나머지 구한 후 대입\n",
        "**= : 숫자 제곱 후 대입\n",
        "\n",
        "ex)\n",
        "p = 100\n",
        "p += 50\n",
        "print(p)\n",
        "150"
      ]
    },
    {
      "cell_type": "markdown",
      "source": [
        "input() : 사용자 입력을 받음. 괄호 안에 입력한 내용을 프롬프트 문자열이라고 함.\n"
      ],
      "metadata": {
        "id": "H796LqLZ1CEf"
      }
    },
    {
      "cell_type": "markdown",
      "source": [
        "문자열을 숫자로 변환할 때 사용하는 함수\n",
        "int()\n",
        "float()\n",
        "오류 생길 수 있는 경우\n",
        "1) 문자열을 숫자로 변환하려할 때\n",
        "2) 소수점이 있는 숫자 형식의 문자열을 int()로 변환하려할때\n",
        "\n",
        "숫자를 문자열로 바꾸기\n",
        "str()"
      ],
      "metadata": {
        "id": "dq90zW_j1TJj"
      }
    },
    {
      "cell_type": "code",
      "source": [
        "#inch 단위를 cm단위로 변경하기\n",
        "raw_input = input(\"inch 단위의 숫자를 입력하세요 : \")\n",
        "inch = float(raw_input)\n",
        "cm = inch * 2.54\n",
        "print(\"cm : \", cm)"
      ],
      "metadata": {
        "colab": {
          "base_uri": "https://localhost:8080/"
        },
        "id": "F0LCrjwK1wZ0",
        "outputId": "5879cdaf-0a28-4f8a-ee71-754c78442c09"
      },
      "execution_count": 4,
      "outputs": [
        {
          "output_type": "stream",
          "name": "stdout",
          "text": [
            "inch 단위의 숫자를 입력하세요 : 15\n",
            "cm :  38.1\n"
          ]
        }
      ]
    },
    {
      "cell_type": "code",
      "source": [],
      "metadata": {
        "id": "vE_H70-y11rK"
      },
      "execution_count": null,
      "outputs": []
    }
  ]
}
