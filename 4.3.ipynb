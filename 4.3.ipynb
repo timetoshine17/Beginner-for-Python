{
  "nbformat": 4,
  "nbformat_minor": 0,
  "metadata": {
    "colab": {
      "provenance": [],
      "authorship_tag": "ABX9TyM4i9Al5fuxv9MOf8wbuaC/",
      "include_colab_link": true
    },
    "kernelspec": {
      "name": "python3",
      "display_name": "Python 3"
    },
    "language_info": {
      "name": "python"
    }
  },
  "cells": [
    {
      "cell_type": "markdown",
      "metadata": {
        "id": "view-in-github",
        "colab_type": "text"
      },
      "source": [
        "<a href=\"https://colab.research.google.com/github/timetoshine17/Beginner-for-Python/blob/main/4.3.ipynb\" target=\"_parent\"><img src=\"https://colab.research.google.com/assets/colab-badge.svg\" alt=\"Open In Colab\"/></a>"
      ]
    },
    {
      "cell_type": "code",
      "execution_count": null,
      "metadata": {
        "id": "Z3lUchUsESkr"
      },
      "outputs": [],
      "source": [
        "#range 함수 <<매개변수로 반드시 정수를 갖는다\n",
        "#range(A) << 0~A-1\n",
        "#range(A,B) << A~B-1까지 범위\n",
        "#range(A,B,C) <<A~B-1까지 범위, C만큼 차이\n"
      ]
    },
    {
      "cell_type": "code",
      "source": [
        "#for 숫자 변수 in 범위\n",
        "#for i in range(len(array)) <<array에 들어있는 요소 개수만큼 반복한다"
      ],
      "metadata": {
        "id": "t4WXpo3LFcQE"
      },
      "execution_count": null,
      "outputs": []
    },
    {
      "cell_type": "code",
      "source": [
        "#역반복문\n",
        "#for i in range(4, -1, -1)<< 4부터 0까지 -1씩 줄어든다\n",
        "#reversed()함수"
      ],
      "metadata": {
        "id": "NTOHHaAELI70"
      },
      "execution_count": null,
      "outputs": []
    },
    {
      "cell_type": "code",
      "source": [
        "#while 반복문을 조건을 활용해서 반복 사용해야 할 때 사용한다.\n",
        "import time\n",
        "number = 0\n",
        "target = time.time() + 3\n",
        "while time.time() < target:\n",
        "  number += 1\n",
        "print(number)"
      ],
      "metadata": {
        "colab": {
          "base_uri": "https://localhost:8080/"
        },
        "id": "Y1AeHR-FMErX",
        "outputId": "508521d3-f076-4d1f-8a6e-1ac8a00b40d6"
      },
      "execution_count": 6,
      "outputs": [
        {
          "output_type": "stream",
          "name": "stdout",
          "text": [
            "13910861\n"
          ]
        }
      ]
    },
    {
      "cell_type": "code",
      "source": [
        "#continue, break\n",
        "#빈칸을 채워 키와 값으로 이루어진 각 리스트를 조합해 하나의 딕셔너리를 만들어라.\n",
        "key_list = [\"a\", \"b\", \"c\", \"d\"]\n",
        "value_list = [\"1\", \"2\", \"3\", \"4\"]\n",
        "character = {}\n",
        "\n",
        "for i in range(len(key_list)):\n",
        "  character[key_list[i]] = value_list[i]\n",
        "print(character)"
      ],
      "metadata": {
        "colab": {
          "base_uri": "https://localhost:8080/"
        },
        "id": "mIkYLxP_Mf9x",
        "outputId": "b54bc51a-07c2-41e9-dac8-58474710e8cb"
      },
      "execution_count": 8,
      "outputs": [
        {
          "output_type": "stream",
          "name": "stdout",
          "text": [
            "{'a': '1', 'b': '2', 'c': '3', 'd': '4'}\n"
          ]
        }
      ]
    },
    {
      "cell_type": "code",
      "source": [
        "# 최대 곱을 저장할 변수\n",
        "max_product = 0\n",
        "max_pair = (0, 0)\n",
        "\n",
        "# 중첩 반복문으로 모든 조합 계산\n",
        "for i in range(1, 100):  # 1부터 99까지\n",
        "    for j in range(1, 100):  # 1부터 99까지\n",
        "        if i + j == 100:  # 두 수의 합이 100일 때만 계산\n",
        "            product = i * j\n",
        "            if product > max_product:  # 최대값 갱신\n",
        "                max_product = product\n",
        "                max_pair = (i, j)\n",
        "\n",
        "# 결과 출력\n",
        "print(f\"최대가 되는 경우: {max_pair[0]} * {max_pair[1]} = {max_product}\")\n"
      ],
      "metadata": {
        "colab": {
          "base_uri": "https://localhost:8080/"
        },
        "id": "u60RKfppVc-P",
        "outputId": "cfd5183e-e4a0-4a28-d0f0-70846554f8bc"
      },
      "execution_count": 10,
      "outputs": [
        {
          "output_type": "stream",
          "name": "stdout",
          "text": [
            "최대가 되는 경우: 50 * 50 = 2500\n"
          ]
        }
      ]
    },
    {
      "cell_type": "code",
      "source": [],
      "metadata": {
        "id": "Wi-YLLB5YUKx"
      },
      "execution_count": null,
      "outputs": []
    }
  ]
}