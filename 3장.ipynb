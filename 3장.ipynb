{
  "nbformat": 4,
  "nbformat_minor": 0,
  "metadata": {
    "colab": {
      "provenance": [],
      "authorship_tag": "ABX9TyPRfhzgnytKBe4MEW2rUVrQ",
      "include_colab_link": true
    },
    "kernelspec": {
      "name": "python3",
      "display_name": "Python 3"
    },
    "language_info": {
      "name": "python"
    }
  },
  "cells": [
    {
      "cell_type": "markdown",
      "metadata": {
        "id": "view-in-github",
        "colab_type": "text"
      },
      "source": [
        "<a href=\"https://colab.research.google.com/github/timetoshine17/Beginner-for-Python/blob/main/3%EC%9E%A5.ipynb\" target=\"_parent\"><img src=\"https://colab.research.google.com/assets/colab-badge.svg\" alt=\"Open In Colab\"/></a>"
      ]
    },
    {
      "cell_type": "code",
      "execution_count": null,
      "metadata": {
        "id": "g60IEj0yNuNi",
        "colab": {
          "base_uri": "https://localhost:8080/"
        },
        "outputId": "d59fe3e9-37e7-463e-cb50-f9037c2eb5c3"
      },
      "outputs": [
        {
          "output_type": "stream",
          "name": "stdout",
          "text": [
            "True\n",
            "True\n"
          ]
        }
      ],
      "source": [
        "#불 자료형과 if 조건문\n",
        "#불 만들기 : 비교연산자(문자열에도 적용가능)\n",
        "#==: 같다, !=다르다\n",
        "print(10!=100)\n",
        "#논리연산자\n",
        "#not : 아니다 (불을 반대로 전환), and: 그리고(피연산자 두개가 모두 참일때만 True), or : 또는(하나만이라도 참이면 True)\n",
        "a = \"안녕\"\n",
        "b = \"안안녕\"\n",
        "c = \"안녕\"\n",
        "print(a!= c or b!=c)"
      ]
    },
    {
      "cell_type": "code",
      "source": [
        "#if 조건문\n",
        "#날짜/시간을 한 줄로 출력하기\n",
        "import datetime\n",
        "now = datetime.datetime.now()\n",
        "print(f\"{now.day}일{now.hour}시\")"
      ],
      "metadata": {
        "colab": {
          "base_uri": "https://localhost:8080/"
        },
        "id": "Fjrul7b_r7yg",
        "outputId": "ad87b5fc-d700-4714-a74c-e3859bdff754"
      },
      "execution_count": null,
      "outputs": [
        {
          "output_type": "stream",
          "name": "stdout",
          "text": [
            "19일0시\n"
          ]
        }
      ]
    },
    {
      "cell_type": "code",
      "source": [
        "#계절을 구분하는 조건문\n",
        "import datetime\n",
        "now = datetime.datetime.now()\n",
        "if 11<= now.month <=12:\n",
        "  print(\"겨울\")\n",
        "else:\n",
        "  print(\"겨울이 아닙니다\")\n"
      ],
      "metadata": {
        "colab": {
          "base_uri": "https://localhost:8080/"
        },
        "id": "RXk_tYeyusWw",
        "outputId": "da6610e8-5e3d-41ae-faa4-b4c7fad4c082"
      },
      "execution_count": null,
      "outputs": [
        {
          "output_type": "stream",
          "name": "stdout",
          "text": [
            "겨울\n"
          ]
        }
      ]
    },
    {
      "cell_type": "code",
      "source": [
        "#짝수와 홀수 구별하기\n",
        "number = int(input(\"정수입력하시오: \"))\n",
        "if number %2 == 0:\n",
        "  print(\"짝수입니다\")\n",
        "else:\n",
        "  print(\"홀수입니다\")"
      ],
      "metadata": {
        "colab": {
          "base_uri": "https://localhost:8080/"
        },
        "id": "o9_Vt6K4vOh1",
        "outputId": "8cbbcfa5-3c73-405e-d849-97247d8f05ff"
      },
      "execution_count": null,
      "outputs": [
        {
          "output_type": "stream",
          "name": "stdout",
          "text": [
            "정수입력하시오: 0\n",
            "짝수입니다\n"
          ]
        }
      ]
    },
    {
      "cell_type": "markdown",
      "source": [],
      "metadata": {
        "id": "9_oWHkuhNVop"
      }
    },
    {
      "cell_type": "code",
      "source": [
        "#끝자리 숫자로 짝 홀 구별하기\n",
        "number = (input(\"정수입력하시오: \"))\n",
        "last_number = number[-1]\n",
        "if last_number == \"0\" or \"2\" or \"4\" or \"6\" or \"8\":\n",
        "  print(\"짝수입니다\")\n",
        "else:\n",
        "  print(\"홀수입니다\")"
      ],
      "metadata": {
        "colab": {
          "base_uri": "https://localhost:8080/"
        },
        "id": "J1JrRnynuKsw",
        "outputId": "01cf54a0-584c-4f53-b416-16ced98b797c"
      },
      "execution_count": null,
      "outputs": [
        {
          "output_type": "stream",
          "name": "stdout",
          "text": [
            "정수입력하시오: 10\n",
            "짝수입니다\n"
          ]
        }
      ]
    },
    {
      "cell_type": "code",
      "source": [
        "#elif 구문 -> if는 첫번째 조건 나머지 쭉쭉\n",
        "#False로 변환되는 값은 None, 0, 0.0, 빈 컨테이너\n",
        "#pass 기호"
      ],
      "metadata": {
        "id": "5Kcv-6MnwILC"
      },
      "execution_count": null,
      "outputs": []
    },
    {
      "cell_type": "code",
      "source": [
        "#도전 과제\n",
        "인사 = input(\"입력: \")\n",
        "if \"안녕\" in 인사:\n",
        "  print(\"안녕하세요.\")\n",
        "elif 인사 == \"지금 몇 시야?\":\n",
        "  import datetime\n",
        "  now = datetime.datetime.now()\n",
        "  a = now.hour\n",
        "  print(f\"{a}시입니다.\")\n",
        "else:\n",
        "  print(인사)\n",
        "\n"
      ],
      "metadata": {
        "colab": {
          "base_uri": "https://localhost:8080/"
        },
        "id": "wz9lbansO7Um",
        "outputId": "e9550e50-9f23-4425-a07e-08fa6f57a35c"
      },
      "execution_count": 4,
      "outputs": [
        {
          "output_type": "stream",
          "name": "stdout",
          "text": [
            "입력: 안녕해\n",
            "안녕하세요.\n"
          ]
        }
      ]
    },
    {
      "cell_type": "code",
      "source": [
        "#도전 과제 숫자가 2,3,5로 나누어 떨어지는 지 출력\n",
        "number = int(input(\"정수입력하시오: \"))\n",
        "if number %2 == 0:\n",
        "  print(\"짝수입니다\")\n",
        "elif number %3 == 0:\n",
        "  print(\"3의 배수입니다\")\n",
        "elif number %5 == 0:\n",
        "  print(\"5의 배수입니다\")\n",
        "else:\n",
        "  print(\"2,3,5 중 무엇의 배수도 아닙니다.\")"
      ],
      "metadata": {
        "colab": {
          "base_uri": "https://localhost:8080/"
        },
        "id": "8U7v-xy1Pq7A",
        "outputId": "29c4b22a-4c73-43ab-a8fe-9d5a72ed7534"
      },
      "execution_count": 5,
      "outputs": [
        {
          "output_type": "stream",
          "name": "stdout",
          "text": [
            "정수입력하시오: 789\n",
            "3의 배수입니다\n"
          ]
        }
      ]
    },
    {
      "cell_type": "code",
      "source": [],
      "metadata": {
        "id": "KJjoRqiwQvFL"
      },
      "execution_count": null,
      "outputs": []
    }
  ]
}