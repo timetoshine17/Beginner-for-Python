{
  "nbformat": 4,
  "nbformat_minor": 0,
  "metadata": {
    "colab": {
      "provenance": [],
      "authorship_tag": "ABX9TyN0KUbmxyub6tQnViKGnzo+",
      "include_colab_link": true
    },
    "kernelspec": {
      "name": "python3",
      "display_name": "Python 3"
    },
    "language_info": {
      "name": "python"
    }
  },
  "cells": [
    {
      "cell_type": "markdown",
      "metadata": {
        "id": "view-in-github",
        "colab_type": "text"
      },
      "source": [
        "<a href=\"https://colab.research.google.com/github/timetoshine17/Beginner-for-Python/blob/main/4-1.ipynb\" target=\"_parent\"><img src=\"https://colab.research.google.com/assets/colab-badge.svg\" alt=\"Open In Colab\"/></a>"
      ]
    },
    {
      "cell_type": "code",
      "execution_count": null,
      "metadata": {
        "colab": {
          "base_uri": "https://localhost:8080/"
        },
        "id": "XlQaHbI4C9vg",
        "outputId": "ed321ab1-baca-4560-9d5f-771dbd198c57"
      },
      "outputs": [
        {
          "output_type": "stream",
          "name": "stdout",
          "text": [
            "[1, 2, 3, 2]\n",
            "[1, 20, 2, 3, 2]\n",
            "[1, 2, 4, 5, 6]\n"
          ]
        }
      ],
      "source": [
        "#리스트 : []내부에 여러 종류의 자료를 넣음\n",
        "#[요소, 요소], []안에 들어간 숫자는 인덱스\n",
        "#리스트에 요소 추가하기 : append(), insert() << 둘다 요소 하나 추가\n",
        "list_a= [1,2,3]\n",
        "list_a.append(2)\n",
        "print(list_a)\n",
        "\n",
        "list_a.insert(1,20) #1자리에 20넣기\n",
        "print(list_a)\n",
        "\n",
        "#요소 여러 개 추가 : extend()\n",
        "list_b=[1,2]\n",
        "list_b.extend([4,5,6])\n",
        "print(list_b)"
      ]
    },
    {
      "cell_type": "code",
      "source": [
        "#비파괴적 : 원본에 영향을 주지 않음\n",
        "#파괴적 : 위의 함수들"
      ],
      "metadata": {
        "id": "oFS1WG8eDlVB"
      },
      "execution_count": null,
      "outputs": []
    },
    {
      "cell_type": "code",
      "source": [
        "#인덱스로 제거하기 :del키워드, pop()\n",
        "#del 리스트명[인덱스] << 범위지정하여 제거할 수 도 있음\n",
        "#리스트명.pop(인덱스)\n",
        "\n",
        "list_a = [0,1,2,3]\n",
        "del list_a[1]\n",
        "print(list_a)\n",
        "\n",
        "list_b=[2,3,4]\n",
        "list_b.pop(2)\n",
        "print(list_b)\n",
        "\n",
        "#값으로 제거하기 : remove()\n",
        "#리스트.remove(값)\n",
        "list_A=[1,2,3,4,5]\n",
        "list_A.remove(2)\n",
        "print(list_A)\n",
        "\n",
        "#모두 제거하기 : clear()\n",
        "#리스트.clear()"
      ],
      "metadata": {
        "colab": {
          "base_uri": "https://localhost:8080/"
        },
        "id": "QdNnUt6TEQyk",
        "outputId": "6f174706-3166-4d43-d4e0-22c7cc5cf5c7"
      },
      "execution_count": null,
      "outputs": [
        {
          "output_type": "stream",
          "name": "stdout",
          "text": [
            "[0, 2, 3]\n",
            "[2, 3]\n",
            "[1, 3, 4, 5]\n"
          ]
        }
      ]
    },
    {
      "cell_type": "code",
      "source": [
        "#리스트 정렬하기 : sort()< 기본 오름차순\n",
        "#리스트 정렬하기 : reverse=True << 내림차순\n",
        "#값 in 리스트\n",
        "list_a = [1,2,3,5]\n",
        "240 in list_a\n",
        "240 not in list_a"
      ],
      "metadata": {
        "id": "MRinDe-iEioW",
        "colab": {
          "base_uri": "https://localhost:8080/"
        },
        "outputId": "2abc9b68-04b8-4257-fd39-e9a550d18b61"
      },
      "execution_count": 2,
      "outputs": [
        {
          "output_type": "execute_result",
          "data": {
            "text/plain": [
              "True"
            ]
          },
          "metadata": {},
          "execution_count": 2
        }
      ]
    },
    {
      "cell_type": "code",
      "source": [
        "#for 반복문\n",
        "#for 반복자 in 반복할 수 있는 것 :<<반복할 수 있는 것에는 문자열, 리스트, 딕셔너리, 범위 등이 있다.\n",
        "array = [2,3,4,5]\n",
        "for element in array:\n",
        "    print(element)"
      ],
      "metadata": {
        "colab": {
          "base_uri": "https://localhost:8080/"
        },
        "id": "EOU-8aTA1QfC",
        "outputId": "e8abfc94-0934-4056-87f4-923d3c05331a"
      },
      "execution_count": 3,
      "outputs": [
        {
          "output_type": "stream",
          "name": "stdout",
          "text": [
            "2\n",
            "3\n",
            "4\n",
            "5\n"
          ]
        }
      ]
    },
    {
      "cell_type": "code",
      "source": [
        "#중첩 리스트와 중첩 반복문\n",
        "#리스트 내부에 *사용\n",
        "a=[1,2,3,4]\n",
        "b=[*a, *a, *a]\n",
        "b\n",
        "print(*a)"
      ],
      "metadata": {
        "colab": {
          "base_uri": "https://localhost:8080/"
        },
        "id": "RrGAJ3Av0saR",
        "outputId": "0b31c1f0-0f6f-4e79-c9fd-5675f29e8e03"
      },
      "execution_count": 5,
      "outputs": [
        {
          "output_type": "stream",
          "name": "stdout",
          "text": [
            "1 2 3 4\n"
          ]
        }
      ]
    },
    {
      "cell_type": "code",
      "source": [],
      "metadata": {
        "id": "H-YmxG6F4D0D"
      },
      "execution_count": null,
      "outputs": []
    }
  ]
}