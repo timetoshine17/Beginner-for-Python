{
  "nbformat": 4,
  "nbformat_minor": 0,
  "metadata": {
    "colab": {
      "provenance": [],
      "authorship_tag": "ABX9TyNILaiHIfvA5Ied2CeY8Pcz",
      "include_colab_link": true
    },
    "kernelspec": {
      "name": "python3",
      "display_name": "Python 3"
    },
    "language_info": {
      "name": "python"
    }
  },
  "cells": [
    {
      "cell_type": "markdown",
      "metadata": {
        "id": "view-in-github",
        "colab_type": "text"
      },
      "source": [
        "<a href=\"https://colab.research.google.com/github/timetoshine17/Beginner-for-Python/blob/main/4-2.ipynb\" target=\"_parent\"><img src=\"https://colab.research.google.com/assets/colab-badge.svg\" alt=\"Open In Colab\"/></a>"
      ]
    },
    {
      "cell_type": "code",
      "execution_count": 6,
      "metadata": {
        "colab": {
          "base_uri": "https://localhost:8080/"
        },
        "id": "tY8rpjZx4YFU",
        "outputId": "4164daec-ca5e-47a4-d6e3-cd8007504b4d"
      },
      "outputs": [
        {
          "output_type": "execute_result",
          "data": {
            "text/plain": [
              "['유리', '기철', '철수', '은지']"
            ]
          },
          "metadata": {},
          "execution_count": 6
        }
      ],
      "source": [
        "#딕셔너리\n",
        "dict_a={\n",
        "    \"name\" : [\"유리\", \"기철\", \"철수\", \"은지\"], #리스트로 처리해주기\n",
        "    \"gender\" : [\"여자\", \"남자\"]\n",
        "} #더 여러 개의 요소를 작성할 수 있음.\n",
        "dict_a[\"name\"]"
      ]
    },
    {
      "cell_type": "code",
      "source": [
        "#딕셔너리[새로운 키]= 새로운 값\n",
        "#get()함수\n",
        "my_dict = {'name': 'Alice', 'age': 25}\n",
        "print(my_dict.get('name'))  # 출력: Alice\n",
        "# 대괄호 표기법: 키가 없으면 오류 발생\n",
        "print(my_dict['address'])  # KeyError 발생\n",
        "\n",
        "# get(): 키가 없을 때 기본값 반환\n",
        "print(my_dict.get('address', 'No address found'))  # 출력: No address found\n"
      ],
      "metadata": {
        "id": "eb9CE6Hu5Uji"
      },
      "execution_count": null,
      "outputs": []
    },
    {
      "cell_type": "code",
      "source": [
        "#빈칸을 채워서 numbers내부에 들어있는 숫자가 몇 번 등장하는지를 찾아보시오\n",
        "numbers = [1, 2, 3, 4, 1, 2, 1, 1, 1, 1, 1, 1, 2, 2, 2]\n",
        "counter = {}\n",
        "\n",
        "for number in numbers:\n",
        "    if number in counter:\n",
        "        counter[number] += 1  # 이미 키가 있으면 값을 1 증가\n",
        "    else:\n",
        "        counter[number] = 1   # 키가 없으면 값을 1로 초기화\n",
        "\n",
        "print(counter)\n"
      ],
      "metadata": {
        "colab": {
          "base_uri": "https://localhost:8080/"
        },
        "id": "MsLvkE7s8U_9",
        "outputId": "39503d9b-fd26-4499-efa2-9edff3a98e0b"
      },
      "execution_count": 7,
      "outputs": [
        {
          "output_type": "stream",
          "name": "stdout",
          "text": [
            "{1: 8, 2: 5, 3: 1, 4: 1}\n"
          ]
        }
      ]
    },
    {
      "cell_type": "markdown",
      "source": [],
      "metadata": {
        "id": "44eQDKJ24fL-"
      }
    },
    {
      "cell_type": "code",
      "source": [
        "character = {\n",
        "    \"name\": \"기사\",\n",
        "    \"level\": 12,\n",
        "    \"items\": {\n",
        "        \"sword\": \"불꽃의 검\",\n",
        "        \"armor\": \"풀플레이트\"\n",
        "    },\n",
        "    \"skill\": [\"베기\", \"세계 베기\", \"아주 세계 베기\"]\n",
        "}\n",
        "\n",
        "# for 반복문을 사용합니다.\n",
        "for key in character:\n",
        "    value = character[key]\n",
        "\n",
        "    if type(value) == dict:  # 값이 딕셔너리인 경우\n",
        "        for sub_key, sub_value in value.items():\n",
        "            print(f\"{sub_key} : {sub_value}\")\n",
        "    elif type(value) == list:  # 값이 리스트인 경우\n",
        "        for item in value:\n",
        "            print(f\"{key} : {item}\")\n",
        "    else:  # 그 외의 경우 (단순 값)\n",
        "        print(f\"{key} : {value}\")\n",
        "\n",
        "#value.items(): 딕셔너리의 키와 값을 쌍으로 반환한다\n",
        "#items()는 딕셔너리의 (키, 값) 형태의 튜플을 반환한다."
      ],
      "metadata": {
        "id": "XFc5yB2FBle8"
      },
      "execution_count": null,
      "outputs": []
    }
  ]
}