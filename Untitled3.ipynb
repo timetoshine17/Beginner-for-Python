{
  "nbformat": 4,
  "nbformat_minor": 0,
  "metadata": {
    "colab": {
      "provenance": [],
      "authorship_tag": "ABX9TyOIj/eGAXmqyP6DWzgd1WkA",
      "include_colab_link": true
    },
    "kernelspec": {
      "name": "python3",
      "display_name": "Python 3"
    },
    "language_info": {
      "name": "python"
    }
  },
  "cells": [
    {
      "cell_type": "markdown",
      "metadata": {
        "id": "view-in-github",
        "colab_type": "text"
      },
      "source": [
        "<a href=\"https://colab.research.google.com/github/timetoshine17/Beginner-for-Python/blob/main/Untitled3.ipynb\" target=\"_parent\"><img src=\"https://colab.research.google.com/assets/colab-badge.svg\" alt=\"Open In Colab\"/></a>"
      ]
    },
    {
      "cell_type": "code",
      "execution_count": null,
      "metadata": {
        "id": "UxY6lHMEL7Mf"
      },
      "outputs": [],
      "source": []
    },
    {
      "cell_type": "markdown",
      "source": [
        "자료형 : 문자열, 숫자, 불\n",
        "  문자열 : string\n",
        "  숫자 : number\n",
        "  불 : boolean -> True, False\n",
        "자료형 확인하기 : type()함수 활용\n",
        "\"\"와 ''로 감싸 입력한 모든 것을 문자열이라고 생각해도 괜찮음.\n",
        "이스케이프 문자 사용 :\n",
        "  \\\" : 큰따옴표\n",
        "  \\' : 작은따옴표\n",
        "  \\n : 줄바꿈 == \"\"\" -> 의도하지 않은 줄바꿈이 들어가지 않게 하려면 \\기호를 사용함.\n",
        "  \"\"\"\\ == 줄을 바꿔 출력하지 않을 것임.\n",
        "  \\t : 탭\n",
        "  ex)print(\"\\\"안녕하세요\\\"라고 말하고 있어\")\n",
        "  => \"안녕하세요\"라고 말하고 있어\n"
      ],
      "metadata": {
        "id": "K5NwEp34MFc0"
      }
    },
    {
      "cell_type": "code",
      "source": [],
      "metadata": {
        "id": "_O-fm5Q8NRVp"
      },
      "execution_count": null,
      "outputs": []
    },
    {
      "cell_type": "markdown",
      "source": [
        "문자열 연산자\n",
        "+\n",
        "* : 숫자와 문자열 함께 입력가능\n",
        "[] : 인덱싱\n",
        "[:] : 슬라이싱\n",
        "  ex) [1:3] == 2번째꺼부터 4번째 전까지.(마지막 숫자 포함하지 않음)\n",
        "  ex) [1:], [:3]등으로 응용가능"
      ],
      "metadata": {
        "id": "TM-fZ0SjNYav"
      }
    },
    {
      "cell_type": "code",
      "source": [],
      "metadata": {
        "id": "9R9FCr0IOHfP"
      },
      "execution_count": null,
      "outputs": []
    }
  ]
}